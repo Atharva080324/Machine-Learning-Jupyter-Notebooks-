{
 "cells": [
  {
   "cell_type": "markdown",
   "id": "160fdfe4-3d55-44c1-ba1c-398db58671ce",
   "metadata": {},
   "source": [
    "What is an API\n",
    "=> Application Programming Interface is a data pipelines that share data. When IRCTC share its data to diff\n",
    "diff company that the particular seat is booked. "
   ]
  },
  {
   "cell_type": "code",
   "execution_count": null,
   "id": "4154e0bf",
   "metadata": {
    "vscode": {
     "languageId": "plaintext"
    }
   },
   "outputs": [],
   "source": []
  },
  {
   "cell_type": "code",
   "execution_count": null,
   "id": "ae33bf4f",
   "metadata": {
    "vscode": {
     "languageId": "plaintext"
    }
   },
   "outputs": [],
   "source": []
  }
 ],
 "metadata": {
  "kernelspec": {
   "display_name": "Python 3 (ipykernel)",
   "language": "python",
   "name": "python3"
  },
  "language_info": {
   "codemirror_mode": {
    "name": "ipython",
    "version": 3
   },
   "file_extension": ".py",
   "mimetype": "text/x-python",
   "name": "python",
   "nbconvert_exporter": "python",
   "pygments_lexer": "ipython3",
   "version": "3.12.7"
  }
 },
 "nbformat": 4,
 "nbformat_minor": 5
}
