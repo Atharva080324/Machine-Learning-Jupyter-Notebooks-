{
 "cells": [
  {
   "cell_type": "markdown",
   "id": "32a4a565-2f76-4bd4-9293-32f39469c9b5",
   "metadata": {},
   "source": [
    "Mixed Data :\n",
    "Column contains numeircal and words.\n",
    "types\n",
    "1)B5 , C23 , D41(train seats)\n",
    "  split in two diff \n",
    "categorical  num\n",
    "B            5\n",
    "\n",
    "2) 8 2 4 A B e 9 1 \n",
    "    split in two \n",
    "cate and num\n",
    "NA        8\n",
    "NA        2\n",
    "NA        4\n",
    "A         NA\n",
    "B         NA\n",
    "\n"
   ]
  },
  {
   "cell_type": "code",
   "execution_count": null,
   "id": "5798555d-64dc-4c92-b410-d6554e5e6f57",
   "metadata": {},
   "outputs": [],
   "source": []
  }
 ],
 "metadata": {
  "kernelspec": {
   "display_name": "Python 3 (ipykernel)",
   "language": "python",
   "name": "python3"
  },
  "language_info": {
   "codemirror_mode": {
    "name": "ipython",
    "version": 3
   },
   "file_extension": ".py",
   "mimetype": "text/x-python",
   "name": "python",
   "nbconvert_exporter": "python",
   "pygments_lexer": "ipython3",
   "version": "3.12.7"
  }
 },
 "nbformat": 4,
 "nbformat_minor": 5
}
