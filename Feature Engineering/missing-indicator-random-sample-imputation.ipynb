{
 "cells": [
  {
   "cell_type": "raw",
   "id": "4dd02fdc-8f19-4bc2-8c77-c8373bebef29",
   "metadata": {},
   "source": [
    "1)Random Sample Imputation\n",
    "2)Missing Indicator\n",
    "3)Automatic Select"
   ]
  },
  {
   "cell_type": "raw",
   "id": "26f42527-75d7-4e1d-b52d-f588bb18cf9d",
   "metadata": {},
   "source": [
    "1)Random Sample Imputation:\n",
    " Well suited for linear models as it does not disort the distribution , regardless of the % of NA"
   ]
  },
  {
   "cell_type": "code",
   "execution_count": 1,
   "id": "196b2ab7-ee3a-4455-9b30-0b830b18b05f",
   "metadata": {},
   "outputs": [],
   "source": [
    "import numpy as np\n",
    "import pandas as pd\n",
    "\n",
    "from sklearn.model_selection import train_test_split\n",
    "import matplotlib.pyplot as plt\n",
    "import seaborn as sns"
   ]
  },
  {
   "cell_type": "code",
   "execution_count": 2,
   "id": "3c707d99-2f7a-400f-952e-0095731bda3f",
   "metadata": {},
   "outputs": [],
   "source": [
    "df = pd.read_csv('train.csv',usecols=['Age','Fare','Survived'])"
   ]
  },
  {
   "cell_type": "code",
   "execution_count": 3,
   "id": "abe636a9-b7f6-4829-8c94-414ebdf8407d",
   "metadata": {},
   "outputs": [
    {
     "data": {
      "text/html": [
       "<div>\n",
       "<style scoped>\n",
       "    .dataframe tbody tr th:only-of-type {\n",
       "        vertical-align: middle;\n",
       "    }\n",
       "\n",
       "    .dataframe tbody tr th {\n",
       "        vertical-align: top;\n",
       "    }\n",
       "\n",
       "    .dataframe thead th {\n",
       "        text-align: right;\n",
       "    }\n",
       "</style>\n",
       "<table border=\"1\" class=\"dataframe\">\n",
       "  <thead>\n",
       "    <tr style=\"text-align: right;\">\n",
       "      <th></th>\n",
       "      <th>Survived</th>\n",
       "      <th>Age</th>\n",
       "      <th>Fare</th>\n",
       "    </tr>\n",
       "  </thead>\n",
       "  <tbody>\n",
       "    <tr>\n",
       "      <th>0</th>\n",
       "      <td>0</td>\n",
       "      <td>22.0</td>\n",
       "      <td>7.2500</td>\n",
       "    </tr>\n",
       "    <tr>\n",
       "      <th>1</th>\n",
       "      <td>1</td>\n",
       "      <td>38.0</td>\n",
       "      <td>71.2833</td>\n",
       "    </tr>\n",
       "    <tr>\n",
       "      <th>2</th>\n",
       "      <td>1</td>\n",
       "      <td>26.0</td>\n",
       "      <td>7.9250</td>\n",
       "    </tr>\n",
       "    <tr>\n",
       "      <th>3</th>\n",
       "      <td>1</td>\n",
       "      <td>35.0</td>\n",
       "      <td>53.1000</td>\n",
       "    </tr>\n",
       "    <tr>\n",
       "      <th>4</th>\n",
       "      <td>0</td>\n",
       "      <td>35.0</td>\n",
       "      <td>8.0500</td>\n",
       "    </tr>\n",
       "  </tbody>\n",
       "</table>\n",
       "</div>"
      ],
      "text/plain": [
       "   Survived   Age     Fare\n",
       "0         0  22.0   7.2500\n",
       "1         1  38.0  71.2833\n",
       "2         1  26.0   7.9250\n",
       "3         1  35.0  53.1000\n",
       "4         0  35.0   8.0500"
      ]
     },
     "execution_count": 3,
     "metadata": {},
     "output_type": "execute_result"
    }
   ],
   "source": [
    "df.head()"
   ]
  },
  {
   "cell_type": "code",
   "execution_count": 4,
   "id": "3878bca7-5391-4b0c-963f-b57a46686d05",
   "metadata": {},
   "outputs": [
    {
     "data": {
      "text/plain": [
       "Survived     0.00000\n",
       "Age         19.86532\n",
       "Fare         0.00000\n",
       "dtype: float64"
      ]
     },
     "execution_count": 4,
     "metadata": {},
     "output_type": "execute_result"
    }
   ],
   "source": [
    "df.isnull().mean()*100"
   ]
  },
  {
   "cell_type": "code",
   "execution_count": 5,
   "id": "9b499b50-8891-4e76-87ad-08fa09acf9b6",
   "metadata": {},
   "outputs": [],
   "source": [
    "x = df.drop(columns=['Survived'])\n",
    "y = df['Survived']"
   ]
  },
  {
   "cell_type": "code",
   "execution_count": 6,
   "id": "bfe706f1-c49e-4b95-8a6a-6e7d9763df8f",
   "metadata": {},
   "outputs": [],
   "source": [
    "xtrain,xtest,ytrain,ytest = train_test_split(x,y,test_size=0.2,random_state=2)"
   ]
  },
  {
   "cell_type": "code",
   "execution_count": 7,
   "id": "da540bd2-1c0a-45db-a532-8e7bf58e446e",
   "metadata": {
    "scrolled": true
   },
   "outputs": [],
   "source": [
    "xtrain['Age_imputed'] = xtrain['Age']\n",
    "xtest['Age_imputed'] = xtest['Age']"
   ]
  },
  {
   "cell_type": "code",
   "execution_count": 8,
   "id": "9f73ca0e-81de-4518-8864-0a76912c9997",
   "metadata": {},
   "outputs": [
    {
     "data": {
      "text/plain": [
       "77    NaN\n",
       "868   NaN\n",
       "334   NaN\n",
       "295   NaN\n",
       "792   NaN\n",
       "       ..\n",
       "674   NaN\n",
       "466   NaN\n",
       "584   NaN\n",
       "527   NaN\n",
       "168   NaN\n",
       "Name: Age_imputed, Length: 148, dtype: float64"
      ]
     },
     "execution_count": 8,
     "metadata": {},
     "output_type": "execute_result"
    }
   ],
   "source": [
    "xtrain['Age_imputed'][xtrain['Age_imputed'].isnull()]         #extracted all null values"
   ]
  },
  {
   "cell_type": "code",
   "execution_count": 11,
   "id": "221d0557-0c19-4ff8-90f7-6623f00cf7ff",
   "metadata": {},
   "outputs": [
    {
     "data": {
      "text/plain": [
       "array([24.  , 50.  , 10.  , 40.  ,  8.  , 34.5 , 20.  , 33.  , 30.  ,\n",
       "        4.  , 22.  , 20.  , 26.  , 35.  , 62.  , 49.  , 22.  , 28.  ,\n",
       "       22.  , 24.  ,  0.75,  5.  , 41.  , 36.  , 21.  , 54.  , 14.  ,\n",
       "       22.  , 18.  , 18.  , 15.  , 32.  , 39.  , 30.  , 21.  , 30.  ,\n",
       "       27.  , 52.  , 51.  , 13.  , 48.  , 50.  , 23.  , 44.  , 38.  ,\n",
       "       48.  , 30.  , 32.  , 24.  , 18.  , 26.  , 20.  , 47.  , 20.  ,\n",
       "       31.  , 16.  , 23.  , 24.  , 29.  , 35.  , 29.  , 24.  , 25.  ,\n",
       "       34.  , 38.  ,  9.  , 35.  , 19.  , 24.  , 25.  , 33.  , 28.5 ,\n",
       "       26.  , 19.  , 60.  , 23.  , 21.  , 21.  , 30.  , 36.  , 27.  ,\n",
       "       41.  , 36.  , 36.  , 26.  , 58.  , 58.  , 25.  , 65.  , 61.  ,\n",
       "       38.  , 29.  ,  0.75, 22.  , 20.  , 32.  ,  4.  , 39.  , 27.  ,\n",
       "        0.67, 39.  , 29.  , 24.  , 54.  , 33.  ,  2.  , 71.  , 23.  ,\n",
       "       23.5 , 21.  , 62.  , 31.  , 17.  , 22.  , 32.  , 21.  ,  0.42,\n",
       "       34.  , 21.  , 14.  , 34.  , 23.  , 50.  , 42.  , 18.  , 18.  ,\n",
       "       35.  , 40.  ,  3.  , 16.  , 32.  , 26.  ,  9.  , 35.  ,  6.  ,\n",
       "       22.  , 30.  , 37.  , 52.  , 70.  , 42.  , 19.  , 29.  , 28.  ,\n",
       "       34.  , 17.  , 39.  , 32.  ])"
      ]
     },
     "execution_count": 11,
     "metadata": {},
     "output_type": "execute_result"
    }
   ],
   "source": [
    "xtrain['Age'].dropna().sample(xtrain['Age'].isnull().sum()).values         #random values to replace with above null values"
   ]
  },
  {
   "cell_type": "code",
   "execution_count": 12,
   "id": "5c9d646c-fbde-4159-a2c1-4e0e437c38cf",
   "metadata": {
    "scrolled": true
   },
   "outputs": [
    {
     "name": "stderr",
     "output_type": "stream",
     "text": [
      "C:\\Users\\athar\\AppData\\Local\\Temp\\ipykernel_11916\\2883392946.py:1: FutureWarning: ChainedAssignmentError: behaviour will change in pandas 3.0!\n",
      "You are setting values through chained assignment. Currently this works in certain cases, but when using Copy-on-Write (which will become the default behaviour in pandas 3.0) this will never work to update the original DataFrame or Series, because the intermediate object on which we are setting values will behave as a copy.\n",
      "A typical example is when you are setting values in a column of a DataFrame, like:\n",
      "\n",
      "df[\"col\"][row_indexer] = value\n",
      "\n",
      "Use `df.loc[row_indexer, \"col\"] = values` instead, to perform the assignment in a single step and ensure this keeps updating the original `df`.\n",
      "\n",
      "See the caveats in the documentation: https://pandas.pydata.org/pandas-docs/stable/user_guide/indexing.html#returning-a-view-versus-a-copy\n",
      "\n",
      "  xtrain['Age_imputed'][xtrain['Age_imputed'].isnull()] = xtrain['Age'].dropna().sample(xtrain['Age'].isnull().sum()).values\n",
      "C:\\Users\\athar\\AppData\\Local\\Temp\\ipykernel_11916\\2883392946.py:2: FutureWarning: ChainedAssignmentError: behaviour will change in pandas 3.0!\n",
      "You are setting values through chained assignment. Currently this works in certain cases, but when using Copy-on-Write (which will become the default behaviour in pandas 3.0) this will never work to update the original DataFrame or Series, because the intermediate object on which we are setting values will behave as a copy.\n",
      "A typical example is when you are setting values in a column of a DataFrame, like:\n",
      "\n",
      "df[\"col\"][row_indexer] = value\n",
      "\n",
      "Use `df.loc[row_indexer, \"col\"] = values` instead, to perform the assignment in a single step and ensure this keeps updating the original `df`.\n",
      "\n",
      "See the caveats in the documentation: https://pandas.pydata.org/pandas-docs/stable/user_guide/indexing.html#returning-a-view-versus-a-copy\n",
      "\n",
      "  xtest['Age_imputed'][xtest['Age_imputed'].isnull()] = xtest['Age'].dropna().sample(xtest['Age'].isnull().sum()).values\n"
     ]
    }
   ],
   "source": [
    "xtrain['Age_imputed'][xtrain['Age_imputed'].isnull()] = xtrain['Age'].dropna().sample(xtrain['Age'].isnull().sum()).values \n",
    "xtest['Age_imputed'][xtest['Age_imputed'].isnull()] = xtest['Age'].dropna().sample(xtest['Age'].isnull().sum()).values "
   ]
  },
  {
   "cell_type": "code",
   "execution_count": 13,
   "id": "3b254176-31b6-4cf1-856f-550aeb8f9dbf",
   "metadata": {},
   "outputs": [
    {
     "data": {
      "text/plain": [
       "(      Age      Fare  Age_imputed\n",
       " 30   40.0   27.7208         40.0\n",
       " 10    4.0   16.7000          4.0\n",
       " 873  47.0    9.0000         47.0\n",
       " 182   9.0   31.3875          9.0\n",
       " 876  20.0    9.8458         20.0\n",
       " ..    ...       ...          ...\n",
       " 534  30.0    8.6625         30.0\n",
       " 584   NaN    8.7125         47.0\n",
       " 493  71.0   49.5042         71.0\n",
       " 527   NaN  221.7792         45.5\n",
       " 168   NaN   25.9250         29.0\n",
       " \n",
       " [712 rows x 3 columns],\n",
       "       Age     Fare  Age_imputed\n",
       " 707  42.0  26.2875         42.0\n",
       " 37   21.0   8.0500         21.0\n",
       " 615  24.0  65.0000         24.0\n",
       " 169  28.0  56.4958         28.0\n",
       " 68   17.0   7.9250         17.0\n",
       " ..    ...      ...          ...\n",
       " 89   24.0   8.0500         24.0\n",
       " 80   22.0   9.0000         22.0\n",
       " 846   NaN  69.5500         36.0\n",
       " 870  26.0   7.8958         26.0\n",
       " 251  29.0  10.4625         29.0\n",
       " \n",
       " [179 rows x 3 columns])"
      ]
     },
     "execution_count": 13,
     "metadata": {},
     "output_type": "execute_result"
    }
   ],
   "source": [
    "xtrain,xtest"
   ]
  },
  {
   "cell_type": "code",
   "execution_count": 14,
   "id": "83caa233-c9aa-447c-81fd-43aaefd94c28",
   "metadata": {},
   "outputs": [
    {
     "name": "stderr",
     "output_type": "stream",
     "text": [
      "C:\\Users\\athar\\AppData\\Local\\Temp\\ipykernel_11916\\619381073.py:1: UserWarning: \n",
      "\n",
      "`distplot` is a deprecated function and will be removed in seaborn v0.14.0.\n",
      "\n",
      "Please adapt your code to use either `displot` (a figure-level function with\n",
      "similar flexibility) or `kdeplot` (an axes-level function for kernel density plots).\n",
      "\n",
      "For a guide to updating your code to use the new functions, please see\n",
      "https://gist.github.com/mwaskom/de44147ed2974457ad6372750bbe5751\n",
      "\n",
      "  sns.distplot(xtrain['Age'],label='Original',hist=False)\n",
      "C:\\Users\\athar\\AppData\\Local\\Temp\\ipykernel_11916\\619381073.py:2: UserWarning: \n",
      "\n",
      "`distplot` is a deprecated function and will be removed in seaborn v0.14.0.\n",
      "\n",
      "Please adapt your code to use either `displot` (a figure-level function with\n",
      "similar flexibility) or `kdeplot` (an axes-level function for kernel density plots).\n",
      "\n",
      "For a guide to updating your code to use the new functions, please see\n",
      "https://gist.github.com/mwaskom/de44147ed2974457ad6372750bbe5751\n",
      "\n",
      "  sns.distplot(xtrain['Age_imputed'],label='Imputed',hist=False)\n"
     ]
    },
    {
     "data": {
      "image/png": "[encoded data removed]",
      "text/plain": [
       "<Figure size 640x480 with 1 Axes>"
      ]
     },
     "metadata": {},
     "output_type": "display_data"
    }
   ],
   "source": [
    "sns.distplot(xtrain['Age'],label='Original',hist=False)\n",
    "sns.distplot(xtrain['Age_imputed'],label='Imputed',hist=False)\n",
    "plt.legend()\n",
    "plt.show()"
   ]
  },
  {
   "cell_type": "code",
   "execution_count": 15,
   "id": "d3ee0ba4-5e21-4b4e-b211-463710e16816",
   "metadata": {},
   "outputs": [
    {
     "name": "stdout",
     "output_type": "stream",
     "text": [
      "Original variable variance=  204.3495133904614\n",
      "Variance after random imputation=  237.50093573154342\n"
     ]
    }
   ],
   "source": [
    "#minor difference in distribution of data\n",
    "#lets check variance\n",
    "print('Original variable variance= ',xtrain['Age'].var())\n",
    "print('Variance after random imputation= ',xtest['Age'].var())"
   ]
  },
  {
   "cell_type": "code",
   "execution_count": 17,
   "id": "5733d038-7d86-4dfa-97c8-1b45c6f6386d",
   "metadata": {},
   "outputs": [
    {
     "data": {
      "text/html": [
       "<div>\n",
       "<style scoped>\n",
       "    .dataframe tbody tr th:only-of-type {\n",
       "        vertical-align: middle;\n",
       "    }\n",
       "\n",
       "    .dataframe tbody tr th {\n",
       "        vertical-align: top;\n",
       "    }\n",
       "\n",
       "    .dataframe thead th {\n",
       "        text-align: right;\n",
       "    }\n",
       "</style>\n",
       "<table border=\"1\" class=\"dataframe\">\n",
       "  <thead>\n",
       "    <tr style=\"text-align: right;\">\n",
       "      <th></th>\n",
       "      <th>Fare</th>\n",
       "      <th>Age</th>\n",
       "      <th>Age_imputed</th>\n",
       "    </tr>\n",
       "  </thead>\n",
       "  <tbody>\n",
       "    <tr>\n",
       "      <th>Fare</th>\n",
       "      <td>2368.246832</td>\n",
       "      <td>71.512440</td>\n",
       "      <td>62.417529</td>\n",
       "    </tr>\n",
       "    <tr>\n",
       "      <th>Age</th>\n",
       "      <td>71.512440</td>\n",
       "      <td>204.349513</td>\n",
       "      <td>204.349513</td>\n",
       "    </tr>\n",
       "    <tr>\n",
       "      <th>Age_imputed</th>\n",
       "      <td>62.417529</td>\n",
       "      <td>204.349513</td>\n",
       "      <td>214.523712</td>\n",
       "    </tr>\n",
       "  </tbody>\n",
       "</table>\n",
       "</div>"
      ],
      "text/plain": [
       "                    Fare         Age  Age_imputed\n",
       "Fare         2368.246832   71.512440    62.417529\n",
       "Age            71.512440  204.349513   204.349513\n",
       "Age_imputed    62.417529  204.349513   214.523712"
      ]
     },
     "execution_count": 17,
     "metadata": {},
     "output_type": "execute_result"
    }
   ],
   "source": [
    "xtrain[['Fare','Age','Age_imputed']].cov()\n",
    "#covariance changed"
   ]
  },
  {
   "cell_type": "code",
   "execution_count": 18,
   "id": "ba099463-17ab-4d8b-944c-756a0d44aaf7",
   "metadata": {},
   "outputs": [
    {
     "data": {
      "text/plain": [
       "<Axes: >"
      ]
     },
     "execution_count": 18,
     "metadata": {},
     "output_type": "execute_result"
    },
    {
     "data": {
      "image/png": "[encoded data removed]",
      "text/plain": [
       "<Figure size 640x480 with 1 Axes>"
      ]
     },
     "metadata": {},
     "output_type": "display_data"
    }
   ],
   "source": [
    "xtrain[['Age','Age_imputed']].boxplot()"
   ]
  },
  {
   "cell_type": "code",
   "execution_count": 20,
   "id": "2c1eefee-5c01-4e96-bd64-6ab6f11f6bcb",
   "metadata": {},
   "outputs": [],
   "source": [
    "#some outliners are eliminated"
   ]
  },
  {
   "cell_type": "raw",
   "id": "b01d5a13-7de2-455a-b43e-9d9f68c1d716",
   "metadata": {},
   "source": [
    "Problem arises when at a production level , taking an example of the same dataset , if the user enters fare as 50 and does not \n",
    "enters the age the model will randomly fill the age , but if another user enters same fare as 50 and gets diff age because of the random \n",
    "imputation . So every time the age will be different to handle this :"
   ]
  },
  {
   "cell_type": "code",
   "execution_count": 44,
   "id": "747247c6-4a27-4ba8-97cb-8dd7979ad0d1",
   "metadata": {},
   "outputs": [],
   "source": [
    "data = pd.read_csv('house.csv',usecols=['GarageQual','FireplaceQu','SalePrice'])"
   ]
  },
  {
   "cell_type": "code",
   "execution_count": 45,
   "id": "e31a5b23-9814-4f9b-9d68-a41d16c09869",
   "metadata": {},
   "outputs": [
    {
     "data": {
      "text/plain": [
       "FireplaceQu    47.260274\n",
       "GarageQual      5.547945\n",
       "SalePrice       0.000000\n",
       "dtype: float64"
      ]
     },
     "execution_count": 45,
     "metadata": {},
     "output_type": "execute_result"
    }
   ],
   "source": [
    "data.isnull().mean()*100"
   ]
  },
  {
   "cell_type": "code",
   "execution_count": 46,
   "id": "99c1b25b-0a66-44af-89f2-88f5697a888f",
   "metadata": {},
   "outputs": [],
   "source": [
    "x = data\n",
    "y = data['SalePrice']"
   ]
  },
  {
   "cell_type": "code",
   "execution_count": 47,
   "id": "1d162051-938c-48c3-9a56-030b31f1540a",
   "metadata": {},
   "outputs": [],
   "source": [
    "xtrain,xtest,ytrain,ytest = train_test_split(x,y,test_size=0.2,random_state=2)"
   ]
  },
  {
   "cell_type": "code",
   "execution_count": 48,
   "id": "60f05f34-59b1-4d4d-813c-b94b76540806",
   "metadata": {},
   "outputs": [],
   "source": [
    "xtrain['FireplaceQu_imputed'] = xtrain['FireplaceQu']\n",
    "xtest['FireplaceQu_imputed'] = xtest['FireplaceQu']\n",
    "\n",
    "xtrain['GarageQual_imputed'] = xtrain['GarageQual']\n",
    "xtest['GarageQual_imputed'] = xtest['GarageQual']\n"
   ]
  },
  {
   "cell_type": "code",
   "execution_count": 49,
   "id": "19837c72-bcdf-463e-bdf0-2d1f16260542",
   "metadata": {},
   "outputs": [
    {
     "data": {
      "text/html": [
       "<div>\n",
       "<style scoped>\n",
       "    .dataframe tbody tr th:only-of-type {\n",
       "        vertical-align: middle;\n",
       "    }\n",
       "\n",
       "    .dataframe tbody tr th {\n",
       "        vertical-align: top;\n",
       "    }\n",
       "\n",
       "    .dataframe thead th {\n",
       "        text-align: right;\n",
       "    }\n",
       "</style>\n",
       "<table border=\"1\" class=\"dataframe\">\n",
       "  <thead>\n",
       "    <tr style=\"text-align: right;\">\n",
       "      <th></th>\n",
       "      <th>FireplaceQu</th>\n",
       "      <th>GarageQual</th>\n",
       "      <th>SalePrice</th>\n",
       "      <th>FireplaceQu_imputed</th>\n",
       "      <th>GarageQual_imputed</th>\n",
       "    </tr>\n",
       "  </thead>\n",
       "  <tbody>\n",
       "    <tr>\n",
       "      <th>871</th>\n",
       "      <td>NaN</td>\n",
       "      <td>TA</td>\n",
       "      <td>200500</td>\n",
       "      <td>NaN</td>\n",
       "      <td>TA</td>\n",
       "    </tr>\n",
       "    <tr>\n",
       "      <th>80</th>\n",
       "      <td>Gd</td>\n",
       "      <td>TA</td>\n",
       "      <td>193500</td>\n",
       "      <td>Gd</td>\n",
       "      <td>TA</td>\n",
       "    </tr>\n",
       "    <tr>\n",
       "      <th>100</th>\n",
       "      <td>TA</td>\n",
       "      <td>TA</td>\n",
       "      <td>205000</td>\n",
       "      <td>TA</td>\n",
       "      <td>TA</td>\n",
       "    </tr>\n",
       "    <tr>\n",
       "      <th>389</th>\n",
       "      <td>Ex</td>\n",
       "      <td>TA</td>\n",
       "      <td>426000</td>\n",
       "      <td>Ex</td>\n",
       "      <td>TA</td>\n",
       "    </tr>\n",
       "    <tr>\n",
       "      <th>107</th>\n",
       "      <td>NaN</td>\n",
       "      <td>TA</td>\n",
       "      <td>115000</td>\n",
       "      <td>NaN</td>\n",
       "      <td>TA</td>\n",
       "    </tr>\n",
       "  </tbody>\n",
       "</table>\n",
       "</div>"
      ],
      "text/plain": [
       "    FireplaceQu GarageQual  SalePrice FireplaceQu_imputed GarageQual_imputed\n",
       "871         NaN         TA     200500                 NaN                 TA\n",
       "80           Gd         TA     193500                  Gd                 TA\n",
       "100          TA         TA     205000                  TA                 TA\n",
       "389          Ex         TA     426000                  Ex                 TA\n",
       "107         NaN         TA     115000                 NaN                 TA"
      ]
     },
     "execution_count": 49,
     "metadata": {},
     "output_type": "execute_result"
    }
   ],
   "source": [
    "xtrain.sample(5)"
   ]
  },
  {
   "cell_type": "code",
   "execution_count": 50,
   "id": "c3b0ba41-8cf6-4194-ba0e-7876dfa4a7d8",
   "metadata": {
    "scrolled": true
   },
   "outputs": [
    {
     "name": "stderr",
     "output_type": "stream",
     "text": [
      "C:\\Users\\athar\\AppData\\Local\\Temp\\ipykernel_11916\\1060559099.py:1: FutureWarning: ChainedAssignmentError: behaviour will change in pandas 3.0!\n",
      "You are setting values through chained assignment. Currently this works in certain cases, but when using Copy-on-Write (which will become the default behaviour in pandas 3.0) this will never work to update the original DataFrame or Series, because the intermediate object on which we are setting values will behave as a copy.\n",
      "A typical example is when you are setting values in a column of a DataFrame, like:\n",
      "\n",
      "df[\"col\"][row_indexer] = value\n",
      "\n",
      "Use `df.loc[row_indexer, \"col\"] = values` instead, to perform the assignment in a single step and ensure this keeps updating the original `df`.\n",
      "\n",
      "See the caveats in the documentation: https://pandas.pydata.org/pandas-docs/stable/user_guide/indexing.html#returning-a-view-versus-a-copy\n",
      "\n",
      "  xtrain['FireplaceQu_imputed'][xtrain['FireplaceQu_imputed'].isnull()] = xtrain['FireplaceQu'].dropna().sample(xtrain['FireplaceQu'].isnull().sum()).values\n",
      "C:\\Users\\athar\\AppData\\Local\\Temp\\ipykernel_11916\\1060559099.py:1: SettingWithCopyWarning: \n",
      "A value is trying to be set on a copy of a slice from a DataFrame\n",
      "\n",
      "See the caveats in the documentation: https://pandas.pydata.org/pandas-docs/stable/user_guide/indexing.html#returning-a-view-versus-a-copy\n",
      "  xtrain['FireplaceQu_imputed'][xtrain['FireplaceQu_imputed'].isnull()] = xtrain['FireplaceQu'].dropna().sample(xtrain['FireplaceQu'].isnull().sum()).values\n",
      "C:\\Users\\athar\\AppData\\Local\\Temp\\ipykernel_11916\\1060559099.py:2: FutureWarning: ChainedAssignmentError: behaviour will change in pandas 3.0!\n",
      "You are setting values through chained assignment. Currently this works in certain cases, but when using Copy-on-Write (which will become the default behaviour in pandas 3.0) this will never work to update the original DataFrame or Series, because the intermediate object on which we are setting values will behave as a copy.\n",
      "A typical example is when you are setting values in a column of a DataFrame, like:\n",
      "\n",
      "df[\"col\"][row_indexer] = value\n",
      "\n",
      "Use `df.loc[row_indexer, \"col\"] = values` instead, to perform the assignment in a single step and ensure this keeps updating the original `df`.\n",
      "\n",
      "See the caveats in the documentation: https://pandas.pydata.org/pandas-docs/stable/user_guide/indexing.html#returning-a-view-versus-a-copy\n",
      "\n",
      "  xtest['FireplaceQu_imputed'][xtest['FireplaceQu_imputed'].isnull()] = xtrain['FireplaceQu'].dropna().sample(xtrain['FireplaceQu'].isnull().sum()).values\n",
      "C:\\Users\\athar\\AppData\\Local\\Temp\\ipykernel_11916\\1060559099.py:2: SettingWithCopyWarning: \n",
      "A value is trying to be set on a copy of a slice from a DataFrame\n",
      "\n",
      "See the caveats in the documentation: https://pandas.pydata.org/pandas-docs/stable/user_guide/indexing.html#returning-a-view-versus-a-copy\n",
      "  xtest['FireplaceQu_imputed'][xtest['FireplaceQu_imputed'].isnull()] = xtrain['FireplaceQu'].dropna().sample(xtrain['FireplaceQu'].isnull().sum()).values\n",
      "C:\\Users\\athar\\AppData\\Local\\Temp\\ipykernel_11916\\1060559099.py:4: FutureWarning: ChainedAssignmentError: behaviour will change in pandas 3.0!\n",
      "You are setting values through chained assignment. Currently this works in certain cases, but when using Copy-on-Write (which will become the default behaviour in pandas 3.0) this will never work to update the original DataFrame or Series, because the intermediate object on which we are setting values will behave as a copy.\n",
      "A typical example is when you are setting values in a column of a DataFrame, like:\n",
      "\n",
      "df[\"col\"][row_indexer] = value\n",
      "\n",
      "Use `df.loc[row_indexer, \"col\"] = values` instead, to perform the assignment in a single step and ensure this keeps updating the original `df`.\n",
      "\n",
      "See the caveats in the documentation: https://pandas.pydata.org/pandas-docs/stable/user_guide/indexing.html#returning-a-view-versus-a-copy\n",
      "\n",
      "  xtrain['GarageQual_imputed'][xtrain['GarageQual_imputed'].isnull()] = xtrain['GarageQual'].dropna().sample(xtrain['GarageQual'].isnull().sum()).values\n",
      "C:\\Users\\athar\\AppData\\Local\\Temp\\ipykernel_11916\\1060559099.py:4: SettingWithCopyWarning: \n",
      "A value is trying to be set on a copy of a slice from a DataFrame\n",
      "\n",
      "See the caveats in the documentation: https://pandas.pydata.org/pandas-docs/stable/user_guide/indexing.html#returning-a-view-versus-a-copy\n",
      "  xtrain['GarageQual_imputed'][xtrain['GarageQual_imputed'].isnull()] = xtrain['GarageQual'].dropna().sample(xtrain['GarageQual'].isnull().sum()).values\n",
      "C:\\Users\\athar\\AppData\\Local\\Temp\\ipykernel_11916\\1060559099.py:5: FutureWarning: ChainedAssignmentError: behaviour will change in pandas 3.0!\n",
      "You are setting values through chained assignment. Currently this works in certain cases, but when using Copy-on-Write (which will become the default behaviour in pandas 3.0) this will never work to update the original DataFrame or Series, because the intermediate object on which we are setting values will behave as a copy.\n",
      "A typical example is when you are setting values in a column of a DataFrame, like:\n",
      "\n",
      "df[\"col\"][row_indexer] = value\n",
      "\n",
      "Use `df.loc[row_indexer, \"col\"] = values` instead, to perform the assignment in a single step and ensure this keeps updating the original `df`.\n",
      "\n",
      "See the caveats in the documentation: https://pandas.pydata.org/pandas-docs/stable/user_guide/indexing.html#returning-a-view-versus-a-copy\n",
      "\n",
      "  xtest['GarageQual_imputed'][xtest['GarageQual_imputed'].isnull()] = xtrain['GarageQual'].dropna().sample(xtrain['GarageQual'].isnull().sum()).values\n",
      "C:\\Users\\athar\\AppData\\Local\\Temp\\ipykernel_11916\\1060559099.py:5: SettingWithCopyWarning: \n",
      "A value is trying to be set on a copy of a slice from a DataFrame\n",
      "\n",
      "See the caveats in the documentation: https://pandas.pydata.org/pandas-docs/stable/user_guide/indexing.html#returning-a-view-versus-a-copy\n",
      "  xtest['GarageQual_imputed'][xtest['GarageQual_imputed'].isnull()] = xtrain['GarageQual'].dropna().sample(xtrain['GarageQual'].isnull().sum()).values\n"
     ]
    },
    {
     "ename": "ValueError",
     "evalue": "cannot assign mismatch length to masked array",
     "output_type": "error",
     "traceback": [
      "\u001b[1;31m---------------------------------------------------------------------------\u001b[0m",
      "\u001b[1;31mTypeError\u001b[0m                                 Traceback (most recent call last)",
      "File \u001b[1;32mD:\\New folder\\Lib\\site-packages\\pandas\\core\\indexes\\base.py:3805\u001b[0m, in \u001b[0;36mIndex.get_loc\u001b[1;34m(self, key)\u001b[0m\n\u001b[0;32m   3804\u001b[0m \u001b[38;5;28;01mtry\u001b[39;00m:\n\u001b[1;32m-> 3805\u001b[0m     \u001b[38;5;28;01mreturn\u001b[39;00m \u001b[38;5;28mself\u001b[39m\u001b[38;5;241m.\u001b[39m_engine\u001b[38;5;241m.\u001b[39mget_loc(casted_key)\n\u001b[0;32m   3806\u001b[0m \u001b[38;5;28;01mexcept\u001b[39;00m \u001b[38;5;167;01mKeyError\u001b[39;00m \u001b[38;5;28;01mas\u001b[39;00m err:\n",
      "File \u001b[1;32mindex.pyx:167\u001b[0m, in \u001b[0;36mpandas._libs.index.IndexEngine.get_loc\u001b[1;34m()\u001b[0m\n",
      "File \u001b[1;32mindex.pyx:173\u001b[0m, in \u001b[0;36mpandas._libs.index.IndexEngine.get_loc\u001b[1;34m()\u001b[0m\n",
      "\u001b[1;31mTypeError\u001b[0m: '503     False\n101     False\n608     False\n1089    False\n819     False\n        ...  \n816     False\n1273    False\n285     False\n194     False\n318     False\nName: GarageQual_imputed, Length: 292, dtype: bool' is an invalid key",
      "\nDuring handling of the above exception, another exception occurred:\n",
      "\u001b[1;31mInvalidIndexError\u001b[0m                         Traceback (most recent call last)",
      "File \u001b[1;32mD:\\New folder\\Lib\\site-packages\\pandas\\core\\series.py:1298\u001b[0m, in \u001b[0;36mSeries.__setitem__\u001b[1;34m(self, key, value)\u001b[0m\n\u001b[0;32m   1297\u001b[0m \u001b[38;5;28;01mtry\u001b[39;00m:\n\u001b[1;32m-> 1298\u001b[0m     \u001b[38;5;28mself\u001b[39m\u001b[38;5;241m.\u001b[39m_set_with_engine(key, value, warn\u001b[38;5;241m=\u001b[39mwarn)\n\u001b[0;32m   1299\u001b[0m \u001b[38;5;28;01mexcept\u001b[39;00m \u001b[38;5;167;01mKeyError\u001b[39;00m:\n\u001b[0;32m   1300\u001b[0m     \u001b[38;5;66;03m# We have a scalar (or for MultiIndex or object-dtype, scalar-like)\u001b[39;00m\n\u001b[0;32m   1301\u001b[0m     \u001b[38;5;66;03m#  key that is not present in self.index.\u001b[39;00m\n",
      "File \u001b[1;32mD:\\New folder\\Lib\\site-packages\\pandas\\core\\series.py:1370\u001b[0m, in \u001b[0;36mSeries._set_with_engine\u001b[1;34m(self, key, value, warn)\u001b[0m\n\u001b[0;32m   1369\u001b[0m \u001b[38;5;28;01mdef\u001b[39;00m \u001b[38;5;21m_set_with_engine\u001b[39m(\u001b[38;5;28mself\u001b[39m, key, value, warn: \u001b[38;5;28mbool\u001b[39m \u001b[38;5;241m=\u001b[39m \u001b[38;5;28;01mTrue\u001b[39;00m) \u001b[38;5;241m-\u001b[39m\u001b[38;5;241m>\u001b[39m \u001b[38;5;28;01mNone\u001b[39;00m:\n\u001b[1;32m-> 1370\u001b[0m     loc \u001b[38;5;241m=\u001b[39m \u001b[38;5;28mself\u001b[39m\u001b[38;5;241m.\u001b[39mindex\u001b[38;5;241m.\u001b[39mget_loc(key)\n\u001b[0;32m   1372\u001b[0m     \u001b[38;5;66;03m# this is equivalent to self._values[key] = value\u001b[39;00m\n",
      "File \u001b[1;32mD:\\New folder\\Lib\\site-packages\\pandas\\core\\indexes\\base.py:3817\u001b[0m, in \u001b[0;36mIndex.get_loc\u001b[1;34m(self, key)\u001b[0m\n\u001b[0;32m   3813\u001b[0m \u001b[38;5;28;01mexcept\u001b[39;00m \u001b[38;5;167;01mTypeError\u001b[39;00m:\n\u001b[0;32m   3814\u001b[0m     \u001b[38;5;66;03m# If we have a listlike key, _check_indexing_error will raise\u001b[39;00m\n\u001b[0;32m   3815\u001b[0m     \u001b[38;5;66;03m#  InvalidIndexError. Otherwise we fall through and re-raise\u001b[39;00m\n\u001b[0;32m   3816\u001b[0m     \u001b[38;5;66;03m#  the TypeError.\u001b[39;00m\n\u001b[1;32m-> 3817\u001b[0m     \u001b[38;5;28mself\u001b[39m\u001b[38;5;241m.\u001b[39m_check_indexing_error(key)\n\u001b[0;32m   3818\u001b[0m     \u001b[38;5;28;01mraise\u001b[39;00m\n",
      "File \u001b[1;32mD:\\New folder\\Lib\\site-packages\\pandas\\core\\indexes\\base.py:6059\u001b[0m, in \u001b[0;36mIndex._check_indexing_error\u001b[1;34m(self, key)\u001b[0m\n\u001b[0;32m   6056\u001b[0m \u001b[38;5;28;01mif\u001b[39;00m \u001b[38;5;129;01mnot\u001b[39;00m is_scalar(key):\n\u001b[0;32m   6057\u001b[0m     \u001b[38;5;66;03m# if key is not a scalar, directly raise an error (the code below\u001b[39;00m\n\u001b[0;32m   6058\u001b[0m     \u001b[38;5;66;03m# would convert to numpy arrays and raise later any way) - GH29926\u001b[39;00m\n\u001b[1;32m-> 6059\u001b[0m     \u001b[38;5;28;01mraise\u001b[39;00m InvalidIndexError(key)\n",
      "\u001b[1;31mInvalidIndexError\u001b[0m: 503     False\n101     False\n608     False\n1089    False\n819     False\n        ...  \n816     False\n1273    False\n285     False\n194     False\n318     False\nName: GarageQual_imputed, Length: 292, dtype: bool",
      "\nDuring handling of the above exception, another exception occurred:\n",
      "\u001b[1;31mValueError\u001b[0m                                Traceback (most recent call last)",
      "Cell \u001b[1;32mIn[50], line 5\u001b[0m\n\u001b[0;32m      2\u001b[0m xtest[\u001b[38;5;124m'\u001b[39m\u001b[38;5;124mFireplaceQu_imputed\u001b[39m\u001b[38;5;124m'\u001b[39m][xtest[\u001b[38;5;124m'\u001b[39m\u001b[38;5;124mFireplaceQu_imputed\u001b[39m\u001b[38;5;124m'\u001b[39m]\u001b[38;5;241m.\u001b[39misnull()] \u001b[38;5;241m=\u001b[39m xtrain[\u001b[38;5;124m'\u001b[39m\u001b[38;5;124mFireplaceQu\u001b[39m\u001b[38;5;124m'\u001b[39m]\u001b[38;5;241m.\u001b[39mdropna()\u001b[38;5;241m.\u001b[39msample(xtrain[\u001b[38;5;124m'\u001b[39m\u001b[38;5;124mFireplaceQu\u001b[39m\u001b[38;5;124m'\u001b[39m]\u001b[38;5;241m.\u001b[39misnull()\u001b[38;5;241m.\u001b[39msum())\u001b[38;5;241m.\u001b[39mvalues \n\u001b[0;32m      4\u001b[0m xtrain[\u001b[38;5;124m'\u001b[39m\u001b[38;5;124mGarageQual_imputed\u001b[39m\u001b[38;5;124m'\u001b[39m][xtrain[\u001b[38;5;124m'\u001b[39m\u001b[38;5;124mGarageQual_imputed\u001b[39m\u001b[38;5;124m'\u001b[39m]\u001b[38;5;241m.\u001b[39misnull()] \u001b[38;5;241m=\u001b[39m xtrain[\u001b[38;5;124m'\u001b[39m\u001b[38;5;124mGarageQual\u001b[39m\u001b[38;5;124m'\u001b[39m]\u001b[38;5;241m.\u001b[39mdropna()\u001b[38;5;241m.\u001b[39msample(xtrain[\u001b[38;5;124m'\u001b[39m\u001b[38;5;124mGarageQual\u001b[39m\u001b[38;5;124m'\u001b[39m]\u001b[38;5;241m.\u001b[39misnull()\u001b[38;5;241m.\u001b[39msum())\u001b[38;5;241m.\u001b[39mvalues \n\u001b[1;32m----> 5\u001b[0m xtest[\u001b[38;5;124m'\u001b[39m\u001b[38;5;124mGarageQual_imputed\u001b[39m\u001b[38;5;124m'\u001b[39m][xtest[\u001b[38;5;124m'\u001b[39m\u001b[38;5;124mGarageQual_imputed\u001b[39m\u001b[38;5;124m'\u001b[39m]\u001b[38;5;241m.\u001b[39misnull()] \u001b[38;5;241m=\u001b[39m xtrain[\u001b[38;5;124m'\u001b[39m\u001b[38;5;124mGarageQual\u001b[39m\u001b[38;5;124m'\u001b[39m]\u001b[38;5;241m.\u001b[39mdropna()\u001b[38;5;241m.\u001b[39msample(xtrain[\u001b[38;5;124m'\u001b[39m\u001b[38;5;124mGarageQual\u001b[39m\u001b[38;5;124m'\u001b[39m]\u001b[38;5;241m.\u001b[39misnull()\u001b[38;5;241m.\u001b[39msum())\u001b[38;5;241m.\u001b[39mvalues\n",
      "File \u001b[1;32mD:\\New folder\\Lib\\site-packages\\pandas\\core\\series.py:1357\u001b[0m, in \u001b[0;36mSeries.__setitem__\u001b[1;34m(self, key, value)\u001b[0m\n\u001b[0;32m   1354\u001b[0m \u001b[38;5;66;03m# otherwise with listlike other we interpret series[mask] = other\u001b[39;00m\n\u001b[0;32m   1355\u001b[0m \u001b[38;5;66;03m#  as series[mask] = other[mask]\u001b[39;00m\n\u001b[0;32m   1356\u001b[0m \u001b[38;5;28;01mtry\u001b[39;00m:\n\u001b[1;32m-> 1357\u001b[0m     \u001b[38;5;28mself\u001b[39m\u001b[38;5;241m.\u001b[39m_where(\u001b[38;5;241m~\u001b[39mkey, value, inplace\u001b[38;5;241m=\u001b[39m\u001b[38;5;28;01mTrue\u001b[39;00m, warn\u001b[38;5;241m=\u001b[39mwarn)\n\u001b[0;32m   1358\u001b[0m \u001b[38;5;28;01mexcept\u001b[39;00m InvalidIndexError:\n\u001b[0;32m   1359\u001b[0m     \u001b[38;5;66;03m# test_where_dups\u001b[39;00m\n\u001b[0;32m   1360\u001b[0m     \u001b[38;5;28mself\u001b[39m\u001b[38;5;241m.\u001b[39miloc[key] \u001b[38;5;241m=\u001b[39m value\n",
      "File \u001b[1;32mD:\\New folder\\Lib\\site-packages\\pandas\\core\\generic.py:10754\u001b[0m, in \u001b[0;36mNDFrame._where\u001b[1;34m(self, cond, other, inplace, axis, level, warn)\u001b[0m\n\u001b[0;32m  10748\u001b[0m     align \u001b[38;5;241m=\u001b[39m \u001b[38;5;28mself\u001b[39m\u001b[38;5;241m.\u001b[39m_get_axis_number(axis) \u001b[38;5;241m==\u001b[39m \u001b[38;5;241m1\u001b[39m\n\u001b[0;32m  10750\u001b[0m \u001b[38;5;28;01mif\u001b[39;00m inplace:\n\u001b[0;32m  10751\u001b[0m     \u001b[38;5;66;03m# we may have different type blocks come out of putmask, so\u001b[39;00m\n\u001b[0;32m  10752\u001b[0m     \u001b[38;5;66;03m# reconstruct the block manager\u001b[39;00m\n\u001b[1;32m> 10754\u001b[0m     new_data \u001b[38;5;241m=\u001b[39m \u001b[38;5;28mself\u001b[39m\u001b[38;5;241m.\u001b[39m_mgr\u001b[38;5;241m.\u001b[39mputmask(mask\u001b[38;5;241m=\u001b[39mcond, new\u001b[38;5;241m=\u001b[39mother, align\u001b[38;5;241m=\u001b[39malign, warn\u001b[38;5;241m=\u001b[39mwarn)\n\u001b[0;32m  10755\u001b[0m     result \u001b[38;5;241m=\u001b[39m \u001b[38;5;28mself\u001b[39m\u001b[38;5;241m.\u001b[39m_constructor_from_mgr(new_data, axes\u001b[38;5;241m=\u001b[39mnew_data\u001b[38;5;241m.\u001b[39maxes)\n\u001b[0;32m  10756\u001b[0m     \u001b[38;5;28;01mreturn\u001b[39;00m \u001b[38;5;28mself\u001b[39m\u001b[38;5;241m.\u001b[39m_update_inplace(result)\n",
      "File \u001b[1;32mD:\\New folder\\Lib\\site-packages\\pandas\\core\\internals\\base.py:226\u001b[0m, in \u001b[0;36mDataManager.putmask\u001b[1;34m(self, mask, new, align, warn)\u001b[0m\n\u001b[0;32m    223\u001b[0m     \u001b[38;5;28;01mif\u001b[39;00m \u001b[38;5;129;01mnot\u001b[39;00m warn:\n\u001b[0;32m    224\u001b[0m         already_warned\u001b[38;5;241m.\u001b[39mwarned_already \u001b[38;5;241m=\u001b[39m \u001b[38;5;28;01mTrue\u001b[39;00m\n\u001b[1;32m--> 226\u001b[0m \u001b[38;5;28;01mreturn\u001b[39;00m \u001b[38;5;28mself\u001b[39m\u001b[38;5;241m.\u001b[39mapply_with_block(\n\u001b[0;32m    227\u001b[0m     \u001b[38;5;124m\"\u001b[39m\u001b[38;5;124mputmask\u001b[39m\u001b[38;5;124m\"\u001b[39m,\n\u001b[0;32m    228\u001b[0m     align_keys\u001b[38;5;241m=\u001b[39malign_keys,\n\u001b[0;32m    229\u001b[0m     mask\u001b[38;5;241m=\u001b[39mmask,\n\u001b[0;32m    230\u001b[0m     new\u001b[38;5;241m=\u001b[39mnew,\n\u001b[0;32m    231\u001b[0m     using_cow\u001b[38;5;241m=\u001b[39musing_copy_on_write(),\n\u001b[0;32m    232\u001b[0m     already_warned\u001b[38;5;241m=\u001b[39malready_warned,\n\u001b[0;32m    233\u001b[0m )\n",
      "File \u001b[1;32mD:\\New folder\\Lib\\site-packages\\pandas\\core\\internals\\managers.py:363\u001b[0m, in \u001b[0;36mBaseBlockManager.apply\u001b[1;34m(self, f, align_keys, **kwargs)\u001b[0m\n\u001b[0;32m    361\u001b[0m         applied \u001b[38;5;241m=\u001b[39m b\u001b[38;5;241m.\u001b[39mapply(f, \u001b[38;5;241m*\u001b[39m\u001b[38;5;241m*\u001b[39mkwargs)\n\u001b[0;32m    362\u001b[0m     \u001b[38;5;28;01melse\u001b[39;00m:\n\u001b[1;32m--> 363\u001b[0m         applied \u001b[38;5;241m=\u001b[39m \u001b[38;5;28mgetattr\u001b[39m(b, f)(\u001b[38;5;241m*\u001b[39m\u001b[38;5;241m*\u001b[39mkwargs)\n\u001b[0;32m    364\u001b[0m     result_blocks \u001b[38;5;241m=\u001b[39m extend_blocks(applied, result_blocks)\n\u001b[0;32m    366\u001b[0m out \u001b[38;5;241m=\u001b[39m \u001b[38;5;28mtype\u001b[39m(\u001b[38;5;28mself\u001b[39m)\u001b[38;5;241m.\u001b[39mfrom_blocks(result_blocks, \u001b[38;5;28mself\u001b[39m\u001b[38;5;241m.\u001b[39maxes)\n",
      "File \u001b[1;32mD:\\New folder\\Lib\\site-packages\\pandas\\core\\internals\\blocks.py:1492\u001b[0m, in \u001b[0;36mBlock.putmask\u001b[1;34m(self, mask, new, using_cow, already_warned)\u001b[0m\n\u001b[0;32m   1489\u001b[0m     \u001b[38;5;28mself\u001b[39m \u001b[38;5;241m=\u001b[39m \u001b[38;5;28mself\u001b[39m\u001b[38;5;241m.\u001b[39m_maybe_copy(using_cow, inplace\u001b[38;5;241m=\u001b[39m\u001b[38;5;28;01mTrue\u001b[39;00m)\n\u001b[0;32m   1490\u001b[0m     values \u001b[38;5;241m=\u001b[39m cast(np\u001b[38;5;241m.\u001b[39mndarray, \u001b[38;5;28mself\u001b[39m\u001b[38;5;241m.\u001b[39mvalues)\n\u001b[1;32m-> 1492\u001b[0m     putmask_without_repeat(values\u001b[38;5;241m.\u001b[39mT, mask, casted)\n\u001b[0;32m   1493\u001b[0m     \u001b[38;5;28;01mreturn\u001b[39;00m [\u001b[38;5;28mself\u001b[39m]\n\u001b[0;32m   1494\u001b[0m \u001b[38;5;28;01mexcept\u001b[39;00m LossySetitemError:\n",
      "File \u001b[1;32mD:\\New folder\\Lib\\site-packages\\pandas\\core\\array_algos\\putmask.py:96\u001b[0m, in \u001b[0;36mputmask_without_repeat\u001b[1;34m(values, mask, new)\u001b[0m\n\u001b[0;32m     94\u001b[0m         np\u001b[38;5;241m.\u001b[39mputmask(values, mask, new)\n\u001b[0;32m     95\u001b[0m     \u001b[38;5;28;01melse\u001b[39;00m:\n\u001b[1;32m---> 96\u001b[0m         \u001b[38;5;28;01mraise\u001b[39;00m \u001b[38;5;167;01mValueError\u001b[39;00m(\u001b[38;5;124m\"\u001b[39m\u001b[38;5;124mcannot assign mismatch length to masked array\u001b[39m\u001b[38;5;124m\"\u001b[39m)\n\u001b[0;32m     97\u001b[0m \u001b[38;5;28;01melse\u001b[39;00m:\n\u001b[0;32m     98\u001b[0m     np\u001b[38;5;241m.\u001b[39mputmask(values, mask, new)\n",
      "\u001b[1;31mValueError\u001b[0m: cannot assign mismatch length to masked array"
     ]
    }
   ],
   "source": [
    "xtrain['FireplaceQu_imputed'][xtrain['FireplaceQu_imputed'].isnull()] = xtrain['FireplaceQu'].dropna().sample(xtrain['FireplaceQu'].isnull().sum()).values \n",
    "xtest['FireplaceQu_imputed'][xtest['FireplaceQu_imputed'].isnull()] = xtrain['FireplaceQu'].dropna().sample(xtrain['FireplaceQu'].isnull().sum()).values \n",
    "\n",
    "xtrain['GarageQual_imputed'][xtrain['GarageQual_imputed'].isnull()] = xtrain['GarageQual'].dropna().sample(xtrain['GarageQual'].isnull().sum()).values \n",
    "xtest['GarageQual_imputed'][xtest['GarageQual_imputed'].isnull()] = xtrain['GarageQual'].dropna().sample(xtrain['GarageQual'].isnull().sum()).values \n"
   ]
  },
  {
   "cell_type": "code",
   "execution_count": 51,
   "id": "751c1955-9f7f-4b78-bb63-364908d5ac23",
   "metadata": {},
   "outputs": [],
   "source": [
    "#checking frequency of values in the columns before and after imputation\n",
    "\n",
    "temp = pd.concat([\n",
    "    xtrain['GarageQual'].value_counts()/len(xtrain['GarageQual'].dropna()),\n",
    "    xtrain['GarageQual_imputed'].value_counts()/len(xtrain)\n",
    "],\n",
    "axis=1)\n",
    "\n",
    "temp.columns = ['original','imputed']"
   ]
  },
  {
   "cell_type": "code",
   "execution_count": 52,
   "id": "0fbeb373-2a64-42c5-b220-4248f371c2f1",
   "metadata": {},
   "outputs": [
    {
     "data": {
      "text/html": [
       "<div>\n",
       "<style scoped>\n",
       "    .dataframe tbody tr th:only-of-type {\n",
       "        vertical-align: middle;\n",
       "    }\n",
       "\n",
       "    .dataframe tbody tr th {\n",
       "        vertical-align: top;\n",
       "    }\n",
       "\n",
       "    .dataframe thead th {\n",
       "        text-align: right;\n",
       "    }\n",
       "</style>\n",
       "<table border=\"1\" class=\"dataframe\">\n",
       "  <thead>\n",
       "    <tr style=\"text-align: right;\">\n",
       "      <th></th>\n",
       "      <th>original</th>\n",
       "      <th>imputed</th>\n",
       "    </tr>\n",
       "  </thead>\n",
       "  <tbody>\n",
       "    <tr>\n",
       "      <th>TA</th>\n",
       "      <td>0.951043</td>\n",
       "      <td>0.951199</td>\n",
       "    </tr>\n",
       "    <tr>\n",
       "      <th>Fa</th>\n",
       "      <td>0.037171</td>\n",
       "      <td>0.035959</td>\n",
       "    </tr>\n",
       "    <tr>\n",
       "      <th>Gd</th>\n",
       "      <td>0.009973</td>\n",
       "      <td>0.010274</td>\n",
       "    </tr>\n",
       "    <tr>\n",
       "      <th>Po</th>\n",
       "      <td>0.000907</td>\n",
       "      <td>0.001712</td>\n",
       "    </tr>\n",
       "    <tr>\n",
       "      <th>Ex</th>\n",
       "      <td>0.000907</td>\n",
       "      <td>0.000856</td>\n",
       "    </tr>\n",
       "  </tbody>\n",
       "</table>\n",
       "</div>"
      ],
      "text/plain": [
       "    original   imputed\n",
       "TA  0.951043  0.951199\n",
       "Fa  0.037171  0.035959\n",
       "Gd  0.009973  0.010274\n",
       "Po  0.000907  0.001712\n",
       "Ex  0.000907  0.000856"
      ]
     },
     "execution_count": 52,
     "metadata": {},
     "output_type": "execute_result"
    }
   ],
   "source": [
    "temp"
   ]
  },
  {
   "cell_type": "code",
   "execution_count": 53,
   "id": "84ee33ae-19a7-480d-abb0-74ae3dbda8a2",
   "metadata": {},
   "outputs": [],
   "source": [
    "temp = pd.concat([\n",
    "    xtrain['FireplaceQu'].value_counts()/len(xtrain['FireplaceQu'].dropna()),\n",
    "    xtrain['FireplaceQu_imputed'].value_counts()/len(xtrain)\n",
    "],\n",
    "axis=1)\n",
    "\n",
    "temp.columns = ['original','imputed']"
   ]
  },
  {
   "cell_type": "code",
   "execution_count": 54,
   "id": "e8b24f3b-9d60-4292-828e-54d370c49d58",
   "metadata": {},
   "outputs": [
    {
     "data": {
      "text/html": [
       "<div>\n",
       "<style scoped>\n",
       "    .dataframe tbody tr th:only-of-type {\n",
       "        vertical-align: middle;\n",
       "    }\n",
       "\n",
       "    .dataframe tbody tr th {\n",
       "        vertical-align: top;\n",
       "    }\n",
       "\n",
       "    .dataframe thead th {\n",
       "        text-align: right;\n",
       "    }\n",
       "</style>\n",
       "<table border=\"1\" class=\"dataframe\">\n",
       "  <thead>\n",
       "    <tr style=\"text-align: right;\">\n",
       "      <th></th>\n",
       "      <th>original</th>\n",
       "      <th>imputed</th>\n",
       "    </tr>\n",
       "  </thead>\n",
       "  <tbody>\n",
       "    <tr>\n",
       "      <th>Gd</th>\n",
       "      <td>0.494272</td>\n",
       "      <td>0.495719</td>\n",
       "    </tr>\n",
       "    <tr>\n",
       "      <th>TA</th>\n",
       "      <td>0.412439</td>\n",
       "      <td>0.411815</td>\n",
       "    </tr>\n",
       "    <tr>\n",
       "      <th>Fa</th>\n",
       "      <td>0.040917</td>\n",
       "      <td>0.041096</td>\n",
       "    </tr>\n",
       "    <tr>\n",
       "      <th>Po</th>\n",
       "      <td>0.027823</td>\n",
       "      <td>0.027397</td>\n",
       "    </tr>\n",
       "    <tr>\n",
       "      <th>Ex</th>\n",
       "      <td>0.024550</td>\n",
       "      <td>0.023973</td>\n",
       "    </tr>\n",
       "  </tbody>\n",
       "</table>\n",
       "</div>"
      ],
      "text/plain": [
       "    original   imputed\n",
       "Gd  0.494272  0.495719\n",
       "TA  0.412439  0.411815\n",
       "Fa  0.040917  0.041096\n",
       "Po  0.027823  0.027397\n",
       "Ex  0.024550  0.023973"
      ]
     },
     "execution_count": 54,
     "metadata": {},
     "output_type": "execute_result"
    }
   ],
   "source": [
    "temp"
   ]
  },
  {
   "cell_type": "code",
   "execution_count": 55,
   "id": "faeb7752-9ce1-41c1-8fd0-e6648c664b2f",
   "metadata": {
    "scrolled": true
   },
   "outputs": [
    {
     "name": "stderr",
     "output_type": "stream",
     "text": [
      "C:\\Users\\athar\\AppData\\Local\\Temp\\ipykernel_11916\\4220601689.py:2: UserWarning: \n",
      "\n",
      "`distplot` is a deprecated function and will be removed in seaborn v0.14.0.\n",
      "\n",
      "Please adapt your code to use either `displot` (a figure-level function with\n",
      "similar flexibility) or `kdeplot` (an axes-level function for kernel density plots).\n",
      "\n",
      "For a guide to updating your code to use the new functions, please see\n",
      "https://gist.github.com/mwaskom/de44147ed2974457ad6372750bbe5751\n",
      "\n",
      "  sns.distplot(xtrain[xtrain['FireplaceQu']==category]['SalePrice'],hist=False,label=category)\n",
      "C:\\Users\\athar\\AppData\\Local\\Temp\\ipykernel_11916\\4220601689.py:2: UserWarning: \n",
      "\n",
      "`distplot` is a deprecated function and will be removed in seaborn v0.14.0.\n",
      "\n",
      "Please adapt your code to use either `displot` (a figure-level function with\n",
      "similar flexibility) or `kdeplot` (an axes-level function for kernel density plots).\n",
      "\n",
      "For a guide to updating your code to use the new functions, please see\n",
      "https://gist.github.com/mwaskom/de44147ed2974457ad6372750bbe5751\n",
      "\n",
      "  sns.distplot(xtrain[xtrain['FireplaceQu']==category]['SalePrice'],hist=False,label=category)\n",
      "C:\\Users\\athar\\AppData\\Local\\Temp\\ipykernel_11916\\4220601689.py:2: UserWarning: \n",
      "\n",
      "`distplot` is a deprecated function and will be removed in seaborn v0.14.0.\n",
      "\n",
      "Please adapt your code to use either `displot` (a figure-level function with\n",
      "similar flexibility) or `kdeplot` (an axes-level function for kernel density plots).\n",
      "\n",
      "For a guide to updating your code to use the new functions, please see\n",
      "https://gist.github.com/mwaskom/de44147ed2974457ad6372750bbe5751\n",
      "\n",
      "  sns.distplot(xtrain[xtrain['FireplaceQu']==category]['SalePrice'],hist=False,label=category)\n",
      "C:\\Users\\athar\\AppData\\Local\\Temp\\ipykernel_11916\\4220601689.py:2: UserWarning: \n",
      "\n",
      "`distplot` is a deprecated function and will be removed in seaborn v0.14.0.\n",
      "\n",
      "Please adapt your code to use either `displot` (a figure-level function with\n",
      "similar flexibility) or `kdeplot` (an axes-level function for kernel density plots).\n",
      "\n",
      "For a guide to updating your code to use the new functions, please see\n",
      "https://gist.github.com/mwaskom/de44147ed2974457ad6372750bbe5751\n",
      "\n",
      "  sns.distplot(xtrain[xtrain['FireplaceQu']==category]['SalePrice'],hist=False,label=category)\n",
      "C:\\Users\\athar\\AppData\\Local\\Temp\\ipykernel_11916\\4220601689.py:2: UserWarning: \n",
      "\n",
      "`distplot` is a deprecated function and will be removed in seaborn v0.14.0.\n",
      "\n",
      "Please adapt your code to use either `displot` (a figure-level function with\n",
      "similar flexibility) or `kdeplot` (an axes-level function for kernel density plots).\n",
      "\n",
      "For a guide to updating your code to use the new functions, please see\n",
      "https://gist.github.com/mwaskom/de44147ed2974457ad6372750bbe5751\n",
      "\n",
      "  sns.distplot(xtrain[xtrain['FireplaceQu']==category]['SalePrice'],hist=False,label=category)\n"
     ]
    },
    {
     "data": {
      "image/png": "[encoded data removed]",
      "text/plain": [
       "<Figure size 640x480 with 1 Axes>"
      ]
     },
     "metadata": {},
     "output_type": "display_data"
    }
   ],
   "source": [
    "for category in xtrain['FireplaceQu'].dropna().unique():\n",
    "    sns.distplot(xtrain[xtrain['FireplaceQu']==category]['SalePrice'],hist=False,label=category)\n",
    "\n",
    "plt.show()"
   ]
  },
  {
   "cell_type": "code",
   "execution_count": 56,
   "id": "9a518ff3-169c-4c95-9c0d-67b42932380e",
   "metadata": {
    "scrolled": true
   },
   "outputs": [
    {
     "name": "stderr",
     "output_type": "stream",
     "text": [
      "C:\\Users\\athar\\AppData\\Local\\Temp\\ipykernel_11916\\274367642.py:2: UserWarning: \n",
      "\n",
      "`distplot` is a deprecated function and will be removed in seaborn v0.14.0.\n",
      "\n",
      "Please adapt your code to use either `displot` (a figure-level function with\n",
      "similar flexibility) or `kdeplot` (an axes-level function for kernel density plots).\n",
      "\n",
      "For a guide to updating your code to use the new functions, please see\n",
      "https://gist.github.com/mwaskom/de44147ed2974457ad6372750bbe5751\n",
      "\n",
      "  sns.distplot(xtrain[xtrain['FireplaceQu_imputed']==category]['SalePrice'],hist=False,label=category)\n",
      "C:\\Users\\athar\\AppData\\Local\\Temp\\ipykernel_11916\\274367642.py:2: UserWarning: \n",
      "\n",
      "`distplot` is a deprecated function and will be removed in seaborn v0.14.0.\n",
      "\n",
      "Please adapt your code to use either `displot` (a figure-level function with\n",
      "similar flexibility) or `kdeplot` (an axes-level function for kernel density plots).\n",
      "\n",
      "For a guide to updating your code to use the new functions, please see\n",
      "https://gist.github.com/mwaskom/de44147ed2974457ad6372750bbe5751\n",
      "\n",
      "  sns.distplot(xtrain[xtrain['FireplaceQu_imputed']==category]['SalePrice'],hist=False,label=category)\n",
      "C:\\Users\\athar\\AppData\\Local\\Temp\\ipykernel_11916\\274367642.py:2: UserWarning: \n",
      "\n",
      "`distplot` is a deprecated function and will be removed in seaborn v0.14.0.\n",
      "\n",
      "Please adapt your code to use either `displot` (a figure-level function with\n",
      "similar flexibility) or `kdeplot` (an axes-level function for kernel density plots).\n",
      "\n",
      "For a guide to updating your code to use the new functions, please see\n",
      "https://gist.github.com/mwaskom/de44147ed2974457ad6372750bbe5751\n",
      "\n",
      "  sns.distplot(xtrain[xtrain['FireplaceQu_imputed']==category]['SalePrice'],hist=False,label=category)\n",
      "C:\\Users\\athar\\AppData\\Local\\Temp\\ipykernel_11916\\274367642.py:2: UserWarning: \n",
      "\n",
      "`distplot` is a deprecated function and will be removed in seaborn v0.14.0.\n",
      "\n",
      "Please adapt your code to use either `displot` (a figure-level function with\n",
      "similar flexibility) or `kdeplot` (an axes-level function for kernel density plots).\n",
      "\n",
      "For a guide to updating your code to use the new functions, please see\n",
      "https://gist.github.com/mwaskom/de44147ed2974457ad6372750bbe5751\n",
      "\n",
      "  sns.distplot(xtrain[xtrain['FireplaceQu_imputed']==category]['SalePrice'],hist=False,label=category)\n",
      "C:\\Users\\athar\\AppData\\Local\\Temp\\ipykernel_11916\\274367642.py:2: UserWarning: \n",
      "\n",
      "`distplot` is a deprecated function and will be removed in seaborn v0.14.0.\n",
      "\n",
      "Please adapt your code to use either `displot` (a figure-level function with\n",
      "similar flexibility) or `kdeplot` (an axes-level function for kernel density plots).\n",
      "\n",
      "For a guide to updating your code to use the new functions, please see\n",
      "https://gist.github.com/mwaskom/de44147ed2974457ad6372750bbe5751\n",
      "\n",
      "  sns.distplot(xtrain[xtrain['FireplaceQu_imputed']==category]['SalePrice'],hist=False,label=category)\n"
     ]
    },
    {
     "data": {
      "image/png": "[encoded data removed]",
      "text/plain": [
       "<Figure size 640x480 with 1 Axes>"
      ]
     },
     "metadata": {},
     "output_type": "display_data"
    }
   ],
   "source": [
    "for category in xtrain['FireplaceQu'].dropna().unique():\n",
    "    sns.distplot(xtrain[xtrain['FireplaceQu_imputed']==category]['SalePrice'],hist=False,label=category)\n",
    "\n",
    "plt.show()"
   ]
  },
  {
   "cell_type": "code",
   "execution_count": 57,
   "id": "21343cb4-8219-4fa0-a182-48bba9b99d7e",
   "metadata": {},
   "outputs": [],
   "source": [
    "#distribution changed after imputation , not good for linear model"
   ]
  },
  {
   "cell_type": "raw",
   "id": "83113505-a84b-44b0-839c-e7f5427cb46c",
   "metadata": {},
   "source": [
    "Missing Indicator :\n",
    "\n",
    "age | fare\n",
    "22     31\n",
    "41     35\n",
    "NA     41\n",
    "62     32\n",
    "\n",
    "created new column for missing value\n",
    "age_NA\n",
    "F\n",
    "F\n",
    "T\n",
    "F \n",
    "\n",
    "F for value is present\n",
    "T for value not present\n",
    "\n",
    "our ml model creates a diff between missing and non missing rows :"
   ]
  },
  {
   "cell_type": "code",
   "execution_count": 58,
   "id": "0e563e52-7ca7-4161-bd77-61f42a5bd790",
   "metadata": {},
   "outputs": [],
   "source": [
    "import numpy as np\n",
    "import pandas as pd\n",
    "from sklearn.model_selection import train_test_split\n",
    "from sklearn.impute import MissingIndicator,SimpleImputer"
   ]
  },
  {
   "cell_type": "code",
   "execution_count": 59,
   "id": "d3676892-e090-42ce-9c0b-e2ee21b64ae2",
   "metadata": {},
   "outputs": [],
   "source": [
    "df = pd.read_csv('train.csv',usecols=['Age','Fare','Survived'])"
   ]
  },
  {
   "cell_type": "code",
   "execution_count": 60,
   "id": "58d1fbee-8552-421e-93cb-48c08f43552b",
   "metadata": {},
   "outputs": [
    {
     "data": {
      "text/html": [
       "<div>\n",
       "<style scoped>\n",
       "    .dataframe tbody tr th:only-of-type {\n",
       "        vertical-align: middle;\n",
       "    }\n",
       "\n",
       "    .dataframe tbody tr th {\n",
       "        vertical-align: top;\n",
       "    }\n",
       "\n",
       "    .dataframe thead th {\n",
       "        text-align: right;\n",
       "    }\n",
       "</style>\n",
       "<table border=\"1\" class=\"dataframe\">\n",
       "  <thead>\n",
       "    <tr style=\"text-align: right;\">\n",
       "      <th></th>\n",
       "      <th>Survived</th>\n",
       "      <th>Age</th>\n",
       "      <th>Fare</th>\n",
       "    </tr>\n",
       "  </thead>\n",
       "  <tbody>\n",
       "    <tr>\n",
       "      <th>0</th>\n",
       "      <td>0</td>\n",
       "      <td>22.0</td>\n",
       "      <td>7.2500</td>\n",
       "    </tr>\n",
       "    <tr>\n",
       "      <th>1</th>\n",
       "      <td>1</td>\n",
       "      <td>38.0</td>\n",
       "      <td>71.2833</td>\n",
       "    </tr>\n",
       "    <tr>\n",
       "      <th>2</th>\n",
       "      <td>1</td>\n",
       "      <td>26.0</td>\n",
       "      <td>7.9250</td>\n",
       "    </tr>\n",
       "    <tr>\n",
       "      <th>3</th>\n",
       "      <td>1</td>\n",
       "      <td>35.0</td>\n",
       "      <td>53.1000</td>\n",
       "    </tr>\n",
       "    <tr>\n",
       "      <th>4</th>\n",
       "      <td>0</td>\n",
       "      <td>35.0</td>\n",
       "      <td>8.0500</td>\n",
       "    </tr>\n",
       "  </tbody>\n",
       "</table>\n",
       "</div>"
      ],
      "text/plain": [
       "   Survived   Age     Fare\n",
       "0         0  22.0   7.2500\n",
       "1         1  38.0  71.2833\n",
       "2         1  26.0   7.9250\n",
       "3         1  35.0  53.1000\n",
       "4         0  35.0   8.0500"
      ]
     },
     "execution_count": 60,
     "metadata": {},
     "output_type": "execute_result"
    }
   ],
   "source": [
    "df.head()"
   ]
  },
  {
   "cell_type": "code",
   "execution_count": 62,
   "id": "25c3fda7-a485-4f68-b52d-7e7462953d87",
   "metadata": {},
   "outputs": [],
   "source": [
    "x = df.drop(columns=['Survived'])\n",
    "y = df['Survived']"
   ]
  },
  {
   "cell_type": "code",
   "execution_count": 68,
   "id": "ec899028-368f-45ba-a4af-ac3ff6f11269",
   "metadata": {},
   "outputs": [],
   "source": [
    "xtrain,xtest,ytrain,ytest = train_test_split(x,y,test_size=0.2,random_state=2)"
   ]
  },
  {
   "cell_type": "code",
   "execution_count": 64,
   "id": "11852ab3-2a10-4e68-88a4-83e08927cc56",
   "metadata": {},
   "outputs": [
    {
     "data": {
      "text/html": [
       "<div>\n",
       "<style scoped>\n",
       "    .dataframe tbody tr th:only-of-type {\n",
       "        vertical-align: middle;\n",
       "    }\n",
       "\n",
       "    .dataframe tbody tr th {\n",
       "        vertical-align: top;\n",
       "    }\n",
       "\n",
       "    .dataframe thead th {\n",
       "        text-align: right;\n",
       "    }\n",
       "</style>\n",
       "<table border=\"1\" class=\"dataframe\">\n",
       "  <thead>\n",
       "    <tr style=\"text-align: right;\">\n",
       "      <th></th>\n",
       "      <th>Age</th>\n",
       "      <th>Fare</th>\n",
       "    </tr>\n",
       "  </thead>\n",
       "  <tbody>\n",
       "    <tr>\n",
       "      <th>30</th>\n",
       "      <td>40.0</td>\n",
       "      <td>27.7208</td>\n",
       "    </tr>\n",
       "    <tr>\n",
       "      <th>10</th>\n",
       "      <td>4.0</td>\n",
       "      <td>16.7000</td>\n",
       "    </tr>\n",
       "    <tr>\n",
       "      <th>873</th>\n",
       "      <td>47.0</td>\n",
       "      <td>9.0000</td>\n",
       "    </tr>\n",
       "    <tr>\n",
       "      <th>182</th>\n",
       "      <td>9.0</td>\n",
       "      <td>31.3875</td>\n",
       "    </tr>\n",
       "    <tr>\n",
       "      <th>876</th>\n",
       "      <td>20.0</td>\n",
       "      <td>9.8458</td>\n",
       "    </tr>\n",
       "  </tbody>\n",
       "</table>\n",
       "</div>"
      ],
      "text/plain": [
       "      Age     Fare\n",
       "30   40.0  27.7208\n",
       "10    4.0  16.7000\n",
       "873  47.0   9.0000\n",
       "182   9.0  31.3875\n",
       "876  20.0   9.8458"
      ]
     },
     "execution_count": 64,
     "metadata": {},
     "output_type": "execute_result"
    }
   ],
   "source": [
    "xtrain.head()"
   ]
  },
  {
   "cell_type": "code",
   "execution_count": 41,
   "id": "1b8f6ff1-76c2-4f56-b117-761e51a5bfc8",
   "metadata": {},
   "outputs": [],
   "source": [
    "si = SimpleImputer()\n",
    "xtrain_trf = si.fit_transform(xtrain)\n",
    "xtest_trf = si.transform(xtest)"
   ]
  },
  {
   "cell_type": "code",
   "execution_count": null,
   "id": "284215ff-b8b6-4030-9e19-dded3e569649",
   "metadata": {},
   "outputs": [],
   "source": [
    "from sklearn.linear_model import LogisticRegression\n",
    "clf = LogisticRegression()\n",
    "clf.fit(xtrain_trf,ytrain)\n",
    "\n",
    "y_pred = clf.predict(xtest_trf)\n",
    "\n",
    "from sklearn.metrics import accuracy_score\n",
    "accuracy_score(ytest,y_pred)"
   ]
  },
  {
   "cell_type": "raw",
   "id": "dba83f71-5430-4405-afab-ed4fd9008d6c",
   "metadata": {},
   "source": [
    "Using Missing indicator :"
   ]
  },
  {
   "cell_type": "code",
   "execution_count": 69,
   "id": "48d64ec9-7bed-44e1-aede-31f3f9e0a7e3",
   "metadata": {},
   "outputs": [],
   "source": [
    "si = SimpleImputer(add_indicator=True)\n",
    "xtrain_trf = si.fit_transform(xtrain)\n",
    "xtest_trf = si.transform(xtest)"
   ]
  },
  {
   "cell_type": "code",
   "execution_count": 70,
   "id": "1436608b-c057-4539-8640-bfea966aadee",
   "metadata": {},
   "outputs": [
    {
     "data": {
      "text/plain": [
       "0.6312849162011173"
      ]
     },
     "execution_count": 70,
     "metadata": {},
     "output_type": "execute_result"
    }
   ],
   "source": [
    "from sklearn.linear_model import LogisticRegression\n",
    "clf = LogisticRegression()\n",
    "clf.fit(xtrain_trf,ytrain)\n",
    "\n",
    "y_pred = clf.predict(xtest_trf)\n",
    "\n",
    "from sklearn.metrics import accuracy_score\n",
    "accuracy_score(ytest,y_pred)"
   ]
  },
  {
   "cell_type": "raw",
   "id": "55993100-0209-412e-94a6-d9344dc00977",
   "metadata": {},
   "source": [
    "+2 % increased"
   ]
  },
  {
   "cell_type": "code",
   "execution_count": null,
   "id": "10a8d466-3e68-4ab2-b1ef-af376dd22f58",
   "metadata": {},
   "outputs": [],
   "source": []
  }
 ],
 "metadata": {
  "kernelspec": {
   "display_name": "Python 3 (ipykernel)",
   "language": "python",
   "name": "python3"
  },
  "language_info": {
   "codemirror_mode": {
    "name": "ipython",
    "version": 3
   },
   "file_extension": ".py",
   "mimetype": "text/x-python",
   "name": "python",
   "nbconvert_exporter": "python",
   "pygments_lexer": "ipython3",
   "version": "3.12.7"
  }
 },
 "nbformat": 4,
 "nbformat_minor": 5
}
